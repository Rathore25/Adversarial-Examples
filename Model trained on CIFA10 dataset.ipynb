{
  "nbformat": 4,
  "nbformat_minor": 0,
  "metadata": {
    "colab": {
      "name": "keras_cifar10_trained_model_bn_B64_e30.ipynb",
      "provenance": [],
      "collapsed_sections": []
    },
    "kernelspec": {
      "name": "python3",
      "display_name": "Python 3"
    }
  },
  "cells": [
    {
      "cell_type": "markdown",
      "metadata": {
        "id": "uDCcuXVaAzy5",
        "colab_type": "text"
      },
      "source": [
        "Import the necessary libraries"
      ]
    },
    {
      "cell_type": "code",
      "metadata": {
        "id": "NjXvfOg2ajBX",
        "colab_type": "code",
        "colab": {}
      },
      "source": [
        "import keras\n",
        "import json\n",
        "from keras.datasets import cifar10\n",
        "from keras.preprocessing.image import ImageDataGenerator\n",
        "from keras.models import Sequential\n",
        "from keras.layers import Dense, Dropout, Activation, Flatten, BatchNormalization\n",
        "from keras.layers import Conv2D, MaxPooling2D\n",
        "from matplotlib import pyplot as plt\n",
        "import numpy as np\n",
        "import os"
      ],
      "execution_count": null,
      "outputs": []
    },
    {
      "cell_type": "code",
      "metadata": {
        "id": "xPppClmOfAGZ",
        "colab_type": "code",
        "colab": {}
      },
      "source": [
        "batch_size        = 64\n",
        "num_classes       = 10\n",
        "epochs            = 20\n",
        "num_predictions   = 20\n",
        "save_dir          = os.path.join(os.getcwd(), 'drive/My Drive/NEU/7150/HW2/Models/')\n",
        "model_name        = 'keras_cifar10_trained_model_bn_B64_e30.h5'\n",
        "history_name      = 'history_keras_cifar10_trained_model_bn_B64_e30.txt'\n",
        "class_names       = ['airplane','automobile','bird','cat','deer','dog','frog','horse','ship','truck']"
      ],
      "execution_count": null,
      "outputs": []
    },
    {
      "cell_type": "markdown",
      "metadata": {
        "id": "NQjj321AA4O-",
        "colab_type": "text"
      },
      "source": [
        "Load the CIFAR-10 dataset"
      ]
    },
    {
      "cell_type": "code",
      "metadata": {
        "id": "b2-jsj8RfSzH",
        "colab_type": "code",
        "colab": {
          "base_uri": "https://localhost:8080/",
          "height": 72
        },
        "outputId": "cda515f3-7098-4a4a-9669-076adca860eb"
      },
      "source": [
        "# The data, split between train and test sets:\n",
        "(x_train, y_train), (x_test, y_test) = cifar10.load_data()\n",
        "\n",
        "x_train = x_train.astype('float32')\n",
        "x_test = x_test.astype('float32')\n",
        "x_train /= 255\n",
        "x_test /= 255\n",
        "\n",
        "print('x_train shape:', x_train.shape)\n",
        "print(x_train.shape[0], 'train samples')\n",
        "print(x_test.shape[0], 'test samples')\n",
        "\n",
        "# Convert class vectors to binary class matrices.\n",
        "y_train_1 = keras.utils.to_categorical(y_train, num_classes)\n",
        "y_test_1 = keras.utils.to_categorical(y_test, num_classes)"
      ],
      "execution_count": null,
      "outputs": [
        {
          "output_type": "stream",
          "text": [
            "x_train shape: (50000, 32, 32, 3)\n",
            "50000 train samples\n",
            "10000 test samples\n"
          ],
          "name": "stdout"
        }
      ]
    },
    {
      "cell_type": "markdown",
      "metadata": {
        "id": "W9gMbbtcA7iT",
        "colab_type": "text"
      },
      "source": [
        "Build the CNN"
      ]
    },
    {
      "cell_type": "code",
      "metadata": {
        "id": "7LcRlF6ifW6f",
        "colab_type": "code",
        "colab": {
          "base_uri": "https://localhost:8080/",
          "height": 854
        },
        "outputId": "d4aaf352-232b-4c57-85b5-80e96b1a0b7f"
      },
      "source": [
        "model       = Sequential()\n",
        "model.name  = 'CNN_BN_B64_E30'\n",
        "\n",
        "model.add(Conv2D(16, (3, 3), padding='same', input_shape=(32, 32, 3)))\n",
        "model.add(Activation('relu'))\n",
        "model.add(BatchNormalization())\n",
        "\n",
        "model.add(Conv2D(32, (3, 3), padding='same', input_shape=(32, 32, 3)))\n",
        "model.add(Activation('relu'))\n",
        "model.add(BatchNormalization())\n",
        "\n",
        "model.add(MaxPooling2D(pool_size=(2, 2), padding='same'))\n",
        "\n",
        "model.add(Conv2D(32, (3, 3), padding='same', input_shape=(32, 32, 3)))\n",
        "model.add(Activation('relu'))\n",
        "model.add(BatchNormalization())\n",
        "\n",
        "model.add(Conv2D(64, (3, 3), padding='same', input_shape=(32, 32, 3)))\n",
        "model.add(Activation('relu'))\n",
        "model.add(BatchNormalization())\n",
        "\n",
        "model.add(MaxPooling2D(pool_size=(2, 2), padding='same'))\n",
        "\n",
        "model.add(Flatten())\n",
        "\n",
        "model.add(Dense(512))\n",
        "model.add(Activation('relu'))\n",
        "\n",
        "model.add(Dense(num_classes))\n",
        "model.add(Activation('softmax'))\n",
        "\n",
        "# initiate RMSprop optimizer\n",
        "opt = keras.optimizers.RMSprop(learning_rate=0.0001, decay=1e-6)\n",
        "\n",
        "# Let's train the model using RMSprop\n",
        "model.compile(loss='categorical_crossentropy',\n",
        "              optimizer=opt,\n",
        "              metrics= ['accuracy','mse'])\n",
        "\n",
        "model.summary()"
      ],
      "execution_count": null,
      "outputs": [
        {
          "output_type": "stream",
          "text": [
            "Model: \"CNN_BN_B64_E30\"\n",
            "_________________________________________________________________\n",
            "Layer (type)                 Output Shape              Param #   \n",
            "=================================================================\n",
            "conv2d_5 (Conv2D)            (None, 32, 32, 16)        448       \n",
            "_________________________________________________________________\n",
            "activation_7 (Activation)    (None, 32, 32, 16)        0         \n",
            "_________________________________________________________________\n",
            "batch_normalization_5 (Batch (None, 32, 32, 16)        64        \n",
            "_________________________________________________________________\n",
            "conv2d_6 (Conv2D)            (None, 32, 32, 32)        4640      \n",
            "_________________________________________________________________\n",
            "activation_8 (Activation)    (None, 32, 32, 32)        0         \n",
            "_________________________________________________________________\n",
            "batch_normalization_6 (Batch (None, 32, 32, 32)        128       \n",
            "_________________________________________________________________\n",
            "max_pooling2d_3 (MaxPooling2 (None, 16, 16, 32)        0         \n",
            "_________________________________________________________________\n",
            "conv2d_7 (Conv2D)            (None, 16, 16, 32)        9248      \n",
            "_________________________________________________________________\n",
            "activation_9 (Activation)    (None, 16, 16, 32)        0         \n",
            "_________________________________________________________________\n",
            "batch_normalization_7 (Batch (None, 16, 16, 32)        128       \n",
            "_________________________________________________________________\n",
            "conv2d_8 (Conv2D)            (None, 16, 16, 64)        18496     \n",
            "_________________________________________________________________\n",
            "activation_10 (Activation)   (None, 16, 16, 64)        0         \n",
            "_________________________________________________________________\n",
            "batch_normalization_8 (Batch (None, 16, 16, 64)        256       \n",
            "_________________________________________________________________\n",
            "max_pooling2d_4 (MaxPooling2 (None, 8, 8, 64)          0         \n",
            "_________________________________________________________________\n",
            "flatten_2 (Flatten)          (None, 4096)              0         \n",
            "_________________________________________________________________\n",
            "dense_3 (Dense)              (None, 512)               2097664   \n",
            "_________________________________________________________________\n",
            "activation_11 (Activation)   (None, 512)               0         \n",
            "_________________________________________________________________\n",
            "dense_4 (Dense)              (None, 10)                5130      \n",
            "_________________________________________________________________\n",
            "activation_12 (Activation)   (None, 10)                0         \n",
            "=================================================================\n",
            "Total params: 2,136,202\n",
            "Trainable params: 2,135,914\n",
            "Non-trainable params: 288\n",
            "_________________________________________________________________\n"
          ],
          "name": "stdout"
        }
      ]
    },
    {
      "cell_type": "code",
      "metadata": {
        "id": "L4C8BiH2D7Q7",
        "colab_type": "code",
        "colab": {}
      },
      "source": [
        "# This will do preprocessing and realtime data augmentation:\n",
        "datagen = ImageDataGenerator(\n",
        "    featurewise_center=False,  # set input mean to 0 over the dataset\n",
        "    samplewise_center=False,  # set each sample mean to 0\n",
        "    featurewise_std_normalization=False,  # divide inputs by std of the dataset\n",
        "    samplewise_std_normalization=False,  # divide each input by its std\n",
        "    zca_whitening=False,  # apply ZCA whitening\n",
        "    zca_epsilon=1e-06,  # epsilon for ZCA whitening\n",
        "    rotation_range=0,  # randomly rotate images in the range (degrees, 0 to 180)\n",
        "    # randomly shift images horizontally (fraction of total width)\n",
        "    width_shift_range=0.1,\n",
        "    # randomly shift images vertically (fraction of total height)\n",
        "    height_shift_range=0.1,\n",
        "    shear_range=0.,  # set range for random shear\n",
        "    zoom_range=0.,  # set range for random zoom\n",
        "    channel_shift_range=0.,  # set range for random channel shifts\n",
        "    # set mode for filling points outside the input boundaries\n",
        "    fill_mode='nearest',\n",
        "    cval=0.,  # value used for fill_mode = \"constant\"\n",
        "    horizontal_flip=True,  # randomly flip images\n",
        "    vertical_flip=False,  # randomly flip images\n",
        "    # set rescaling factor (applied before any other transformation)\n",
        "    rescale=None,\n",
        "    # set function that will be applied on each input\n",
        "    preprocessing_function=None,\n",
        "    # image data format, either \"channels_first\" or \"channels_last\"\n",
        "    data_format=None,\n",
        "    # fraction of images reserved for validation (strictly between 0 and 1)\n",
        "    validation_split=0.0)\n",
        "\n",
        "datagen.fit(x_train)"
      ],
      "execution_count": null,
      "outputs": []
    },
    {
      "cell_type": "markdown",
      "metadata": {
        "id": "iEH_qsKcBAIk",
        "colab_type": "text"
      },
      "source": [
        "Train the CNN"
      ]
    },
    {
      "cell_type": "code",
      "metadata": {
        "id": "yjyVpqySfvw_",
        "colab_type": "code",
        "colab": {
          "base_uri": "https://localhost:8080/",
          "height": 745
        },
        "outputId": "38718b70-9ee6-435b-8ce7-7c7670b4e09b"
      },
      "source": [
        "history = model.fit_generator(datagen.flow(x_train, y_train_1,batch_size=batch_size),\n",
        "                    epochs=epochs,\n",
        "                    validation_data=(x_test, y_test_1),\n",
        "                    workers=4)"
      ],
      "execution_count": null,
      "outputs": [
        {
          "output_type": "stream",
          "text": [
            "Epoch 1/20\n",
            "782/782 [==============================] - 258s 330ms/step - loss: 1.4908 - accuracy: 0.4745 - mse: 0.0667 - val_loss: 1.2924 - val_accuracy: 0.5438 - val_mse: 0.0599\n",
            "Epoch 2/20\n",
            "782/782 [==============================] - 260s 333ms/step - loss: 1.1903 - accuracy: 0.5781 - mse: 0.0553 - val_loss: 1.1075 - val_accuracy: 0.6101 - val_mse: 0.0514\n",
            "Epoch 3/20\n",
            "782/782 [==============================] - 252s 323ms/step - loss: 1.0638 - accuracy: 0.6234 - mse: 0.0500 - val_loss: 1.0241 - val_accuracy: 0.6413 - val_mse: 0.0481\n",
            "Epoch 4/20\n",
            "782/782 [==============================] - 255s 326ms/step - loss: 0.9768 - accuracy: 0.6546 - mse: 0.0462 - val_loss: 1.0016 - val_accuracy: 0.6569 - val_mse: 0.0466\n",
            "Epoch 5/20\n",
            "782/782 [==============================] - 251s 321ms/step - loss: 0.9017 - accuracy: 0.6824 - mse: 0.0429 - val_loss: 0.9328 - val_accuracy: 0.6773 - val_mse: 0.0441\n",
            "Epoch 6/20\n",
            "782/782 [==============================] - 256s 327ms/step - loss: 0.8441 - accuracy: 0.7032 - mse: 0.0404 - val_loss: 0.9267 - val_accuracy: 0.6842 - val_mse: 0.0434\n",
            "Epoch 7/20\n",
            "782/782 [==============================] - 252s 322ms/step - loss: 0.8039 - accuracy: 0.7174 - mse: 0.0385 - val_loss: 0.8298 - val_accuracy: 0.7170 - val_mse: 0.0391\n",
            "Epoch 8/20\n",
            "782/782 [==============================] - 252s 323ms/step - loss: 0.7604 - accuracy: 0.7344 - mse: 0.0366 - val_loss: 0.8554 - val_accuracy: 0.7119 - val_mse: 0.0402\n",
            "Epoch 9/20\n",
            "782/782 [==============================] - 255s 326ms/step - loss: 0.7202 - accuracy: 0.7491 - mse: 0.0348 - val_loss: 0.7848 - val_accuracy: 0.7358 - val_mse: 0.0368\n",
            "Epoch 10/20\n",
            "782/782 [==============================] - 252s 322ms/step - loss: 0.6938 - accuracy: 0.7580 - mse: 0.0335 - val_loss: 0.7633 - val_accuracy: 0.7412 - val_mse: 0.0363\n",
            "Epoch 11/20\n",
            "782/782 [==============================] - 254s 325ms/step - loss: 0.6647 - accuracy: 0.7700 - mse: 0.0322 - val_loss: 0.7906 - val_accuracy: 0.7362 - val_mse: 0.0370\n",
            "Epoch 12/20\n",
            "782/782 [==============================] - 250s 320ms/step - loss: 0.6383 - accuracy: 0.7792 - mse: 0.0310 - val_loss: 0.7483 - val_accuracy: 0.7518 - val_mse: 0.0350\n",
            "Epoch 13/20\n",
            "782/782 [==============================] - 250s 320ms/step - loss: 0.6115 - accuracy: 0.7861 - mse: 0.0298 - val_loss: 0.7602 - val_accuracy: 0.7493 - val_mse: 0.0353\n",
            "Epoch 14/20\n",
            "782/782 [==============================] - 254s 324ms/step - loss: 0.5917 - accuracy: 0.7955 - mse: 0.0288 - val_loss: 0.7934 - val_accuracy: 0.7437 - val_mse: 0.0366\n",
            "Epoch 15/20\n",
            "782/782 [==============================] - 250s 320ms/step - loss: 0.5729 - accuracy: 0.8004 - mse: 0.0280 - val_loss: 0.7252 - val_accuracy: 0.7622 - val_mse: 0.0337\n",
            "Epoch 16/20\n",
            "782/782 [==============================] - 254s 324ms/step - loss: 0.5535 - accuracy: 0.8073 - mse: 0.0271 - val_loss: 0.7003 - val_accuracy: 0.7692 - val_mse: 0.0325\n",
            "Epoch 17/20\n",
            "782/782 [==============================] - 249s 319ms/step - loss: 0.5344 - accuracy: 0.8150 - mse: 0.0262 - val_loss: 0.7283 - val_accuracy: 0.7574 - val_mse: 0.0344\n",
            "Epoch 18/20\n",
            "782/782 [==============================] - 251s 321ms/step - loss: 0.5229 - accuracy: 0.8190 - mse: 0.0256 - val_loss: 0.7007 - val_accuracy: 0.7694 - val_mse: 0.0326\n",
            "Epoch 19/20\n",
            "782/782 [==============================] - 249s 318ms/step - loss: 0.5033 - accuracy: 0.8250 - mse: 0.0247 - val_loss: 0.6918 - val_accuracy: 0.7707 - val_mse: 0.0322\n",
            "Epoch 20/20\n",
            "782/782 [==============================] - 248s 317ms/step - loss: 0.4882 - accuracy: 0.8303 - mse: 0.0241 - val_loss: 0.7120 - val_accuracy: 0.7736 - val_mse: 0.0327\n"
          ],
          "name": "stdout"
        }
      ]
    },
    {
      "cell_type": "markdown",
      "metadata": {
        "id": "ouGGXkOUBCs-",
        "colab_type": "text"
      },
      "source": [
        "Save the trained model for future use"
      ]
    },
    {
      "cell_type": "code",
      "metadata": {
        "id": "Pre5nQu5fz7Y",
        "colab_type": "code",
        "colab": {
          "base_uri": "https://localhost:8080/",
          "height": 35
        },
        "outputId": "c8c49e6e-7846-4c99-c738-29a814717086"
      },
      "source": [
        "if not os.path.isdir(save_dir):\n",
        "    os.makedirs(save_dir)\n",
        "\n",
        "model_path = os.path.join(save_dir, model_name)\n",
        "model.save(model_path)\n",
        "print('Saved trained model at %s ' % model_path)"
      ],
      "execution_count": null,
      "outputs": [
        {
          "output_type": "stream",
          "text": [
            "Saved trained model at /content/drive/My Drive/NEU/7150/HW2/Models/keras_cifar10_trained_model_bn_B64_e30.h5 \n"
          ],
          "name": "stdout"
        }
      ]
    },
    {
      "cell_type": "code",
      "metadata": {
        "id": "3mzCdVpZgJSg",
        "colab_type": "code",
        "colab": {
          "base_uri": "https://localhost:8080/",
          "height": 72
        },
        "outputId": "f4036829-785d-447c-f506-8124203824a9"
      },
      "source": [
        "scores = model.evaluate(x_test, y_test_1, verbose=1)\n",
        "print('Test loss:', scores[0])\n",
        "print('Test accuracy:', scores[1])"
      ],
      "execution_count": null,
      "outputs": [
        {
          "output_type": "stream",
          "text": [
            "10000/10000 [==============================] - 14s 1ms/step\n",
            "Test loss: 0.7119586735248565\n",
            "Test accuracy: 0.7735999822616577\n"
          ],
          "name": "stdout"
        }
      ]
    },
    {
      "cell_type": "code",
      "metadata": {
        "id": "XrwEcldTgMHg",
        "colab_type": "code",
        "colab": {
          "base_uri": "https://localhost:8080/",
          "height": 295
        },
        "outputId": "32562daa-be76-4c13-db62-5680f1891a5f"
      },
      "source": [
        "plt.plot(history.history['accuracy'])\n",
        "plt.plot(history.history['val_accuracy'])\n",
        "plt.title('model accuracy')\n",
        "plt.ylabel('accuracy')\n",
        "plt.xlabel('epoch')\n",
        "plt.legend(['train', 'val'], loc='upper left')\n",
        "plt.show()"
      ],
      "execution_count": null,
      "outputs": [
        {
          "output_type": "display_data",
          "data": {
            "image/png": "[encoded data removed]",
            "text/plain": [
              "<Figure size 432x288 with 1 Axes>"
            ]
          },
          "metadata": {
            "tags": [],
            "needs_background": "light"
          }
        }
      ]
    },
    {
      "cell_type": "code",
      "metadata": {
        "id": "hqjDVjCmgOTA",
        "colab_type": "code",
        "colab": {
          "base_uri": "https://localhost:8080/",
          "height": 295
        },
        "outputId": "3e6fea20-2e08-44c1-ae83-2a6071083cee"
      },
      "source": [
        "plt.plot(history.history['loss'])\n",
        "plt.plot(history.history['val_loss'])\n",
        "plt.title('model loss')\n",
        "plt.ylabel('loss')\n",
        "plt.xlabel('epoch')\n",
        "plt.legend(['train', 'val'], loc='upper right')\n",
        "plt.show()"
      ],
      "execution_count": null,
      "outputs": [
        {
          "output_type": "display_data",
          "data": {
            "image/png": "[encoded data removed]",
            "text/plain": [
              "<Figure size 432x288 with 1 Axes>"
            ]
          },
          "metadata": {
            "tags": [],
            "needs_background": "light"
          }
        }
      ]
    },
    {
      "cell_type": "markdown",
      "metadata": {
        "id": "sEH7RjXgBKlq",
        "colab_type": "text"
      },
      "source": [
        "Save the history for future use"
      ]
    },
    {
      "cell_type": "code",
      "metadata": {
        "id": "6_ODhhQQgReg",
        "colab_type": "code",
        "colab": {}
      },
      "source": [
        "history_path = os.path.join(save_dir, history_name)\n",
        "\n",
        "text_file = open(history_path, \"w\")\n",
        "text_file.write(str(history.history))\n",
        "text_file.close()"
      ],
      "execution_count": null,
      "outputs": []
    }
  ]
}